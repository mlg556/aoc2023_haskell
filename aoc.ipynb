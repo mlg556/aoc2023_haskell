{
 "cells": [
  {
   "cell_type": "markdown",
   "metadata": {},
   "source": [
    "# Advent of Code 2023 - Haskell"
   ]
  },
  {
   "cell_type": "markdown",
   "metadata": {},
   "source": [
    "## Setup"
   ]
  },
  {
   "cell_type": "markdown",
   "metadata": {},
   "source": [
    "First let's figure out how to read a file. In Haskell, io operations are separated from \"pure\" operations, so we have to \"bind\" the result with \"<-\" to get the actual contents:"
   ]
  },
  {
   "cell_type": "code",
   "execution_count": 1,
   "metadata": {},
   "outputs": [
    {
     "data": {
      "text/plain": [
       "\"1abc2\\npqr3stu8vwx\\na1b2c3d4e5f\\ntreb7uchet\""
      ]
     },
     "metadata": {},
     "output_type": "display_data"
    }
   ],
   "source": [
    "file <- readFile \"day1p1_test.txt\"\n",
    "file"
   ]
  },
  {
   "cell_type": "markdown",
   "metadata": {},
   "source": [
    "now that we have `file :: String`, we can split it into lines:"
   ]
  },
  {
   "cell_type": "code",
   "execution_count": 2,
   "metadata": {},
   "outputs": [
    {
     "data": {
      "text/plain": [
       "[\"1abc2\",\"pqr3stu8vwx\",\"a1b2c3d4e5f\",\"treb7uchet\"]"
      ]
     },
     "metadata": {},
     "output_type": "display_data"
    }
   ],
   "source": [
    "let input = lines file\n",
    "input"
   ]
  },
  {
   "cell_type": "markdown",
   "metadata": {},
   "source": [
    "# Day 1"
   ]
  },
  {
   "cell_type": "markdown",
   "metadata": {},
   "source": [
    "## Part 1"
   ]
  },
  {
   "cell_type": "markdown",
   "metadata": {},
   "source": [
    "In Day 1, Part 1, we are asked to find the *calibration value* hidden in each line:\n",
    "> On each line, the calibration value can be found by combining the first digit and the last digit (in that order) to form a single two-digit number."
   ]
  },
  {
   "cell_type": "markdown",
   "metadata": {},
   "source": [
    "it's clear that the first thing we need to do is to filter out any non-digit characters. Luckily we have just the predicate in Prelude:"
   ]
  },
  {
   "cell_type": "code",
   "execution_count": 3,
   "metadata": {},
   "outputs": [
    {
     "data": {
      "text/plain": [
       "True"
      ]
     },
     "metadata": {},
     "output_type": "display_data"
    },
    {
     "data": {
      "text/plain": [
       "False"
      ]
     },
     "metadata": {},
     "output_type": "display_data"
    }
   ],
   "source": [
    "import Data.Char (isDigit)\n",
    "isDigit '3'\n",
    "isDigit 'a'"
   ]
  },
  {
   "cell_type": "markdown",
   "metadata": {},
   "source": [
    "we can use this as an argument to `filter` like so:"
   ]
  },
  {
   "cell_type": "code",
   "execution_count": 4,
   "metadata": {},
   "outputs": [
    {
     "data": {
      "text/plain": [
       "\"123\""
      ]
     },
     "metadata": {},
     "output_type": "display_data"
    }
   ],
   "source": [
    "filter isDigit \"1ab2sd3\""
   ]
  },
  {
   "cell_type": "markdown",
   "metadata": {},
   "source": [
    "lets map this to each line:"
   ]
  },
  {
   "cell_type": "code",
   "execution_count": 5,
   "metadata": {},
   "outputs": [
    {
     "data": {
      "text/plain": [
       "[\"12\",\"38\",\"12345\",\"7\"]"
      ]
     },
     "metadata": {},
     "output_type": "display_data"
    }
   ],
   "source": [
    "map (filter isDigit) input"
   ]
  },
  {
   "cell_type": "markdown",
   "metadata": {},
   "source": [
    "Nice! now we need to get the first and last character of each line and make a new string out of it. I couldn't find a simpler way to do this: so let's write it in its own function:"
   ]
  },
  {
   "cell_type": "code",
   "execution_count": 6,
   "metadata": {},
   "outputs": [
    {
     "data": {
      "text/plain": [
       "\"11\""
      ]
     },
     "metadata": {},
     "output_type": "display_data"
    },
    {
     "data": {
      "text/plain": [
       "\"13\""
      ]
     },
     "metadata": {},
     "output_type": "display_data"
    }
   ],
   "source": [
    "cc :: String -> String\n",
    "cc a = head a : [last a]\n",
    "\n",
    "cc \"1\"\n",
    "cc \"123\""
   ]
  },
  {
   "cell_type": "markdown",
   "metadata": {},
   "source": [
    "our function also works for single digits!"
   ]
  },
  {
   "cell_type": "code",
   "execution_count": 7,
   "metadata": {},
   "outputs": [
    {
     "data": {
      "text/plain": [
       "[\"12\",\"38\",\"15\",\"77\"]"
      ]
     },
     "metadata": {},
     "output_type": "display_data"
    }
   ],
   "source": [
    "map (cc . filter isDigit) input"
   ]
  },
  {
   "cell_type": "markdown",
   "metadata": {},
   "source": [
    "to convert from a string to an integer, we can simply use `read`. note that this is not best practice, since we dont handle errors. Also, `read` requires a type to be specified, which is kind of confusing. to avoid that, let's put it in its own function `readInt`:"
   ]
  },
  {
   "cell_type": "code",
   "execution_count": 8,
   "metadata": {},
   "outputs": [
    {
     "data": {
      "text/plain": [
       "12"
      ]
     },
     "metadata": {},
     "output_type": "display_data"
    }
   ],
   "source": [
    "read \"12\" :: Integer\n",
    "\n",
    "readInt a = read a :: Integer"
   ]
  },
  {
   "cell_type": "markdown",
   "metadata": {},
   "source": [
    "let's map this to each line:"
   ]
  },
  {
   "cell_type": "code",
   "execution_count": 9,
   "metadata": {},
   "outputs": [
    {
     "data": {
      "text/plain": [
       "[12,38,15,77]"
      ]
     },
     "metadata": {},
     "output_type": "display_data"
    }
   ],
   "source": [
    "map (readInt . cc . filter isDigit) input"
   ]
  },
  {
   "cell_type": "markdown",
   "metadata": {},
   "source": [
    "Finally, let's sum them:"
   ]
  },
  {
   "cell_type": "code",
   "execution_count": 10,
   "metadata": {},
   "outputs": [
    {
     "data": {
      "text/plain": [
       "142"
      ]
     },
     "metadata": {},
     "output_type": "display_data"
    }
   ],
   "source": [
    "sum $ map (readInt . cc . filter isDigit) input"
   ]
  },
  {
   "cell_type": "markdown",
   "metadata": {},
   "source": [
    "our code seems to work! let's put it into a function so we can run it with the actual puzzle input:"
   ]
  },
  {
   "cell_type": "code",
   "execution_count": 37,
   "metadata": {},
   "outputs": [
    {
     "data": {
      "text/plain": [
       "54450"
      ]
     },
     "metadata": {},
     "output_type": "display_data"
    }
   ],
   "source": [
    "file <- readFile \"day1.txt\"\n",
    "let input = lines file\n",
    "\n",
    "day1p1 x = sum $ map (readInt . cc . filter isDigit) x\n",
    "\n",
    "day1p1 input"
   ]
  },
  {
   "cell_type": "markdown",
   "metadata": {},
   "source": [
    "Correct!"
   ]
  },
  {
   "cell_type": "markdown",
   "metadata": {},
   "source": [
    "## Part 2"
   ]
  },
  {
   "cell_type": "markdown",
   "metadata": {},
   "source": [
    "first let's read the test input:"
   ]
  },
  {
   "cell_type": "code",
   "execution_count": 57,
   "metadata": {},
   "outputs": [
    {
     "data": {
      "text/plain": [
       "[\"two1nine\",\"eightwothree\",\"abcone2threexyz\",\"xtwone3four\",\"4nineeightseven2\",\"zoneight234\",\"7pqrstsixteen\"]"
      ]
     },
     "metadata": {},
     "output_type": "display_data"
    }
   ],
   "source": [
    "file <- readFile \"day1p2_test.txt\"\n",
    "let input = lines file\n",
    "input"
   ]
  },
  {
   "cell_type": "markdown",
   "metadata": {},
   "source": [
    "this problem is a bit complicated because we are required to convert strings like \"eightwothree\" to \"823\". notice that because of the overlapping letters, a simple string substitution will not work. let's focus on \"normalizing\" this string by converting it to something like \"eighttwothree\", where there is no overlap, so we can do simple string substitution."
   ]
  },
  {
   "cell_type": "markdown",
   "metadata": {},
   "source": [
    "let's observe the main problem with naive substitution is that it removes information: \"eightwothree\" becomes \"8wo3\", and \"two\" is lost. a simple way to put back this information is to be *less destructive* when replacing strings. instead of replacing \"eight\" -> \"8\", lets do \"eight\" -> \"e8t\", where we **keep** the *first* and *last* letters, therefore no information is lost. the extra letters won't be a problem later, since we filter by `isDigit` anyway. thus our substitution table, or mapping, looks like:\n",
    "\n"
   ]
  },
  {
   "cell_type": "code",
   "execution_count": 58,
   "metadata": {},
   "outputs": [],
   "source": [
    "-- we could generate this programatically...\n",
    "let mapping = [(\"one\",\"o1e\"),(\"two\",\"t2o\"),(\"three\",\"t3e\"),(\"four\",\"f4r\"),(\"five\",\"f5e\"),(\"six\",\"s6x\"),(\"seven\",\"s7n\"),(\"eight\",\"e8t\"),(\"nine\",\"n9e\")]"
   ]
  },
  {
   "cell_type": "markdown",
   "metadata": {},
   "source": [
    "To replace a substring with another in a string, I got this [very nice answer from stack overflow](https://stackoverflow.com/a/49261236):"
   ]
  },
  {
   "cell_type": "code",
   "execution_count": 59,
   "metadata": {},
   "outputs": [
    {
     "data": {
      "text/plain": [
       "\"goodbye world\""
      ]
     },
     "metadata": {},
     "output_type": "display_data"
    }
   ],
   "source": [
    "import Data.List.Split (splitOn)\n",
    "import Data.List (intercalate)\n",
    "\n",
    "replace (from, to) = intercalate to . splitOn from\n",
    "\n",
    "replace (\"hello\", \"goodbye\") \"hello world\""
   ]
  },
  {
   "cell_type": "markdown",
   "metadata": {},
   "source": [
    "take note that `splitOn` is not part of the standard library (*prelude*), so we need to install it with: `stack install split`. you can take a moment to see how this works, but it basically splits the string *on* the substring we want to replace, and puts the `to` string in those places.\n",
    "\n",
    "Now that we have our `mapping` and our `replace`, all we need to do is apply this replace for each tuple of the mapping, so that all text is substituted with its digit. this would look like:"
   ]
  },
  {
   "cell_type": "code",
   "execution_count": 67,
   "metadata": {},
   "outputs": [],
   "source": [
    "replaceAll x = replace (\"one\",\"o1e\") . replace (\"two\",\"t2o\") . replace (\"three\",\"t3e\") -- (...)"
   ]
  },
  {
   "cell_type": "markdown",
   "metadata": {},
   "source": [
    "but since we already have the mapping in a list form, we can use `foldr` to apply the function repeatedly:"
   ]
  },
  {
   "cell_type": "code",
   "execution_count": 68,
   "metadata": {},
   "outputs": [],
   "source": [
    "replaceAll x = foldr replace x mapping"
   ]
  },
  {
   "cell_type": "markdown",
   "metadata": {},
   "source": [
    "lets map this `replaceAll` for each line:"
   ]
  },
  {
   "cell_type": "code",
   "execution_count": 61,
   "metadata": {},
   "outputs": [
    {
     "data": {
      "text/plain": [
       "[\"t2o1n9e\",\"e8t2ot3e\",\"abco1e2t3exyz\",\"xt2o1e3f4r\",\"4n9ee8ts7n2\",\"zo1e8t234\",\"7pqrsts6xteen\"]"
      ]
     },
     "metadata": {},
     "output_type": "display_data"
    }
   ],
   "source": [
    "map replaceAll input"
   ]
  },
  {
   "cell_type": "markdown",
   "metadata": {},
   "source": [
    "looks correct! the rest is the same as *part 1*:"
   ]
  },
  {
   "cell_type": "code",
   "execution_count": 62,
   "metadata": {},
   "outputs": [
    {
     "data": {
      "text/plain": [
       "281"
      ]
     },
     "metadata": {},
     "output_type": "display_data"
    }
   ],
   "source": [
    "day1p2 x = sum $ map (readInt . cc . filter isDigit . replaceAll) x\n",
    "day1p2 input\n"
   ]
  },
  {
   "cell_type": "markdown",
   "metadata": {},
   "source": [
    "yay! now lets run it for the puzzle input:"
   ]
  },
  {
   "cell_type": "code",
   "execution_count": 63,
   "metadata": {},
   "outputs": [
    {
     "data": {
      "text/plain": [
       "54265"
      ]
     },
     "metadata": {},
     "output_type": "display_data"
    }
   ],
   "source": [
    "file <- readFile \"day1.txt\"\n",
    "let input = lines file\n",
    "\n",
    "day1p2 input"
   ]
  },
  {
   "cell_type": "code",
   "execution_count": 64,
   "metadata": {},
   "outputs": [
    {
     "data": {
      "text/plain": [
       "🎉 🎉 🎉"
      ]
     },
     "metadata": {},
     "output_type": "display_data"
    }
   ],
   "source": [
    "putStrLn \"🎉 🎉 🎉\""
   ]
  }
 ],
 "metadata": {
  "kernelspec": {
   "display_name": "Haskell",
   "language": "haskell",
   "name": "haskell"
  },
  "language_info": {
   "codemirror_mode": "ihaskell",
   "file_extension": ".hs",
   "mimetype": "text/x-haskell",
   "name": "haskell",
   "pygments_lexer": "Haskell",
   "version": "9.4.7"
  }
 },
 "nbformat": 4,
 "nbformat_minor": 2
}
